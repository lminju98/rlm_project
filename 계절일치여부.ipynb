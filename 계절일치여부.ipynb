{
 "cells": [
  {
   "cell_type": "code",
   "execution_count": 20,
   "id": "94a6a6f4",
   "metadata": {},
   "outputs": [
    {
     "data": {
      "text/plain": [
       "'Clouds'"
      ]
     },
     "execution_count": 20,
     "metadata": {},
     "output_type": "execute_result"
    }
   ],
   "source": [
    "import urllib.request\n",
    "import json\n",
    "\n",
    "openweather_api_url = \"https://api.openweathermap.org/data/2.5/\"\n",
    "service_key = \"1ec716427f7679f0fe76cb6036c13ba0\"\n",
    "\n",
    "\n",
    "def getNowCity(city) :\n",
    "    global openweather_api_url, service_key\n",
    "    global c_temp\n",
    "\n",
    "    # API 요청시 필요한 인수값 정의\n",
    "    ow_api_url = openweather_api_url + \"weather\"\n",
    "    payload = \"?q=\" + city + \"&\" + \"appid=\" + service_key #\"lang=kr\" 옵션을 추가하면 날씨설명을 한글로 받을 수 있음.\n",
    "    url_total = ow_api_url + payload\n",
    "\n",
    "    # API 요청하여 데이터 받기\n",
    "    req = urllib.request.urlopen(url_total)\n",
    "    res = req.readline()\n",
    "\n",
    "    # 받은 값 JSON 형태로 정제하여 반환\n",
    "    items = json.loads(res)\n",
    "\n",
    "    weather_main = items['weather'][0]['main']\n",
    "    c_temp = int(items['main']['temp'])-273.15\n",
    "    \n",
    "    return weather_main\n",
    "\n",
    "getNowCity(\"Seoul\")\n"
   ]
  },
  {
   "cell_type": "code",
   "execution_count": 29,
   "id": "c5e4a097",
   "metadata": {},
   "outputs": [
    {
     "name": "stdout",
     "output_type": "stream",
     "text": [
      "일치\n",
      "현재 계절 (계절 기간 조건): summer\n",
      "현재 계절 (계절 온도 조건): summer\n",
      "Clouds\n",
      "31.850000000000023\n"
     ]
    }
   ],
   "source": [
    "#계절 일치 여부\n",
    "import datetime\n",
    "\n",
    "#계절기간분류\n",
    "def determine_season(month):\n",
    "    if 3 <= month <= 5:\n",
    "        return 'spring'\n",
    "    elif 6 <= month <= 8:\n",
    "        return 'summer'\n",
    "    elif 9 <= month <= 11:\n",
    "        return 'fall'\n",
    "    else:\n",
    "        return 'winter'\n",
    "\n",
    "#계절온도분류\n",
    "def determine_season_temperature(temp):\n",
    "    if temp >= 24:\n",
    "        return 'summer'\n",
    "    elif temp >= 8:\n",
    "        return 'spring_fall'\n",
    "    else:\n",
    "        return 'winter'\n",
    "\n",
    "#현재시간, 온도 가져옴\n",
    "current_date = datetime.datetime.now()\n",
    "current_month = current_date.month #현재 달\n",
    "c_temp #getNowCity\n",
    "\n",
    "season_by_month = determine_season(current_month)#\n",
    "season_by_temp = determine_season_temperature(c_temp)#\n",
    "\n",
    "#조건문으로 구별\n",
    "if season_by_month == season_by_temp:\n",
    "    print('일치')\n",
    "elif season_by_temp == 'spring_fall':\n",
    "    if (season_by_month == 'spring') or (season_by_month == 'fall'):\n",
    "        print('일치')\n",
    "    else:\n",
    "        print('불일치')\n",
    "else:\n",
    "    print('불일치')\n",
    "\n",
    "#계절 표기\n",
    "print(\"현재 계절 (계절 기간 조건):\", season_by_month)\n",
    "print(\"현재 계절 (계절 온도 조건):\", season_by_temp)\n",
    "\n",
    "#온도, 날씨 표기\n",
    "print(getNowCity(\"Seoul\"))\n",
    "print(c_temp)\n"
   ]
  },
  {
   "cell_type": "code",
   "execution_count": null,
   "id": "ef186072",
   "metadata": {},
   "outputs": [],
   "source": []
  }
 ],
 "metadata": {
  "kernelspec": {
   "display_name": "Python 3 (ipykernel)",
   "language": "python",
   "name": "python3"
  },
  "language_info": {
   "codemirror_mode": {
    "name": "ipython",
    "version": 3
   },
   "file_extension": ".py",
   "mimetype": "text/x-python",
   "name": "python",
   "nbconvert_exporter": "python",
   "pygments_lexer": "ipython3",
   "version": "3.9.13"
  }
 },
 "nbformat": 4,
 "nbformat_minor": 5
}
