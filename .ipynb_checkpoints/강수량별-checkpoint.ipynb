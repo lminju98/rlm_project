{
 "cells": [
  {
   "cell_type": "code",
   "execution_count": 1,
   "id": "ae76efb6",
   "metadata": {},
   "outputs": [
    {
     "name": "stdout",
     "output_type": "stream",
     "text": [
      "검색된 행의 개수: 50\n"
     ]
    }
   ],
   "source": [
    "import pandas as pd\n",
    "\n",
    "# 엑셀 파일 불러오기\n",
    "excel_file = '식단품질정보_전처리완료.xlsx'\n",
    "df = pd.read_excel(excel_file)\n",
    "\n",
    "# 검색할 키워드\n",
    "keyword = '삼계탕'\n",
    "\n",
    "# 특정 키워드가 들어간 행의 개수 검색\n",
    "filtered_rows = df[df['카테고리'].str.contains(keyword, na=False, case=False)]\n",
    "\n",
    "# 검색 결과 출력\n",
    "print(\"검색된 행의 개수:\", len(filtered_rows))"
   ]
  },
  {
   "cell_type": "code",
   "execution_count": 3,
   "id": "c6de9b23",
   "metadata": {},
   "outputs": [
    {
     "name": "stdout",
     "output_type": "stream",
     "text": [
      "     구 감자 햄버거 키워드3\n",
      "0  송파구  0   0    0\n",
      "1  동작구  0   0    0\n",
      "2  강서구  0   0    0\n",
      "3  노원구  0   0    0\n",
      "4  강동구  0   0    0\n",
      "엑셀 파일로 저장되었습니다: 결과파일.xlsx\n"
     ]
    },
    {
     "name": "stderr",
     "output_type": "stream",
     "text": [
      "C:\\Users\\wingclaw\\AppData\\Local\\Temp\\ipykernel_14524\\3873550582.py:20: FutureWarning: The frame.append method is deprecated and will be removed from pandas in a future version. Use pandas.concat instead.\n",
      "  result_df = result_df.append(pd.Series(row_data, index=result_df.columns), ignore_index=True)\n",
      "C:\\Users\\wingclaw\\AppData\\Local\\Temp\\ipykernel_14524\\3873550582.py:20: FutureWarning: The frame.append method is deprecated and will be removed from pandas in a future version. Use pandas.concat instead.\n",
      "  result_df = result_df.append(pd.Series(row_data, index=result_df.columns), ignore_index=True)\n",
      "C:\\Users\\wingclaw\\AppData\\Local\\Temp\\ipykernel_14524\\3873550582.py:20: FutureWarning: The frame.append method is deprecated and will be removed from pandas in a future version. Use pandas.concat instead.\n",
      "  result_df = result_df.append(pd.Series(row_data, index=result_df.columns), ignore_index=True)\n",
      "C:\\Users\\wingclaw\\AppData\\Local\\Temp\\ipykernel_14524\\3873550582.py:20: FutureWarning: The frame.append method is deprecated and will be removed from pandas in a future version. Use pandas.concat instead.\n",
      "  result_df = result_df.append(pd.Series(row_data, index=result_df.columns), ignore_index=True)\n",
      "C:\\Users\\wingclaw\\AppData\\Local\\Temp\\ipykernel_14524\\3873550582.py:20: FutureWarning: The frame.append method is deprecated and will be removed from pandas in a future version. Use pandas.concat instead.\n",
      "  result_df = result_df.append(pd.Series(row_data, index=result_df.columns), ignore_index=True)\n"
     ]
    }
   ],
   "source": [
    "import pandas as pd\n",
    "\n",
    "# 엑셀 파일 불러오기\n",
    "excel_file = '식단품질정보_전처리완료.xlsx'\n",
    "df = pd.read_excel(excel_file)\n",
    "\n",
    "# 구 이름과 검색어 리스트\n",
    "name_list = ['송파구', '동작구', '강서구', '노원구', '강동구']\n",
    "keywords = ['감자', '햄버거', '키워드3']  # 원하는 키워드 추가\n",
    "\n",
    "# 결과를 저장할 데이터프레임 생성\n",
    "result_df = pd.DataFrame(columns=['구'] + keywords)\n",
    "\n",
    "# 구 이름을 기반으로 검색어별 검색 결과 개수 저장\n",
    "for name in name_list:\n",
    "    row_data = [name]\n",
    "    for keyword in keywords:\n",
    "        filtered_rows = df[(df['카테고리'].str.contains(keyword, na=False, case=False)) & (df['도로명주소'] == name)]\n",
    "        row_data.append(len(filtered_rows))\n",
    "    result_df = result_df.append(pd.Series(row_data, index=result_df.columns), ignore_index=True)\n",
    "\n",
    "# 결과 데이터프레임 출력\n",
    "print(result_df)\n",
    "\n",
    "# 결과 데이터프레임을 엑셀 파일로 저장\n",
    "result_excel = '결과파일.xlsx'\n",
    "result_df.to_excel(result_excel, index=False)\n",
    "print(\"엑셀 파일로 저장되었습니다:\", result_excel)"
   ]
  },
  {
   "cell_type": "code",
   "execution_count": null,
   "id": "087df71f",
   "metadata": {},
   "outputs": [],
   "source": [
    "import pandas as pd\n",
    "\n",
    "# 엑셀 파일 불러오기\n",
    "excel_file = '식단품질정보_전처리완료.xlsx'\n",
    "df = pd.read_excel(excel_file)\n",
    "\n",
    "# 구 이름을 추출하는 함수 정의\n",
    "def extract_gu(address):\n",
    "    parts = address.split()  # 공백을 기준으로 주소를 나눔\n",
    "    gu_index = parts.index('구')  # '구'가 있는 위치를 찾음\n",
    "    return parts[gu_index - 1]  # '구'의 바로 앞에 있는 단어가 구 이름임\n",
    "\n",
    "# '구 이름' 열 추가\n",
    "df['구 이름'] = df['도로명주소'].apply(extract_gu)\n",
    "\n",
    "# 구 이름과 검색어 리스트\n",
    "name_list = ['마포구', '금천구', '서초구', '성동구', '동대문구']\n",
    "keywords = ['삼계탕', '키워드2', '키워드3']  # 원하는 키워드 추가\n",
    "\n",
    "# 결과를 저장할 데이터프레임 생성\n",
    "result_df = pd.DataFrame(columns=['구'] + keywords)\n",
    "\n",
    "# 구 이름을 기반으로 검색어별 검색 결과 개수 저장\n",
    "for name in name_list:\n",
    "    row_data = [name]\n",
    "    for keyword in keywords:\n",
    "        filtered_rows = df[(df['카테고리'].str.contains(keyword, na=False, case=False)) & (df['구 이름'] == name)]\n",
    "        row_data.append(len(filtered_rows))\n",
    "    result_df = result_df.append(pd.Series(row_data, index=result_df.columns), ignore_index=True)\n",
    "\n",
    "# 결과 데이터프레임 출력\n",
    "print(result_df)\n",
    "\n",
    "# 결과 데이터프레임을 엑셀 파일로 저장\n",
    "result_excel = '결과파일.xlsx'\n",
    "result_df.to_excel(result_excel, index=False)\n",
    "print(\"엑셀 파일로 저장되었습니다:\", result_excel)"
   ]
  }
 ],
 "metadata": {
  "kernelspec": {
   "display_name": "Python 3 (ipykernel)",
   "language": "python",
   "name": "python3"
  },
  "language_info": {
   "codemirror_mode": {
    "name": "ipython",
    "version": 3
   },
   "file_extension": ".py",
   "mimetype": "text/x-python",
   "name": "python",
   "nbconvert_exporter": "python",
   "pygments_lexer": "ipython3",
   "version": "3.9.13"
  }
 },
 "nbformat": 4,
 "nbformat_minor": 5
}
