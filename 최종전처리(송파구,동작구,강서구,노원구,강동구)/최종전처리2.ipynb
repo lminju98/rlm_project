{
 "cells": [
  {
   "cell_type": "code",
   "execution_count": 1,
   "id": "b2762a28",
   "metadata": {},
   "outputs": [],
   "source": [
    "import pandas as pd\n",
    "import numpy as np"
   ]
  },
  {
   "cell_type": "code",
   "execution_count": 2,
   "id": "761045fb",
   "metadata": {},
   "outputs": [],
   "source": [
    "data = pd.read_excel('D:/데이터 엔지니어 2분기/12.프로젝트 관련/final_data.xlsx')"
   ]
  },
  {
   "cell_type": "code",
   "execution_count": 13,
   "id": "366bcfa7",
   "metadata": {},
   "outputs": [
    {
     "data": {
      "text/plain": [
       "(22123, 18)"
      ]
     },
     "execution_count": 13,
     "metadata": {},
     "output_type": "execute_result"
    }
   ],
   "source": [
    "#1검색되지 않은 음식점 제외\n",
    "data = data[data['도로주소'].notna()]\n",
    "data.shape"
   ]
  },
  {
   "cell_type": "code",
   "execution_count": 14,
   "id": "bb348ef0",
   "metadata": {},
   "outputs": [
    {
     "name": "stderr",
     "output_type": "stream",
     "text": [
      "C:\\Users\\user\\AppData\\Local\\Temp\\ipykernel_23948\\1139144235.py:1: SettingWithCopyWarning: \n",
      "A value is trying to be set on a copy of a slice from a DataFrame.\n",
      "Try using .loc[row_indexer,col_indexer] = value instead\n",
      "\n",
      "See the caveats in the documentation: https://pandas.pydata.org/pandas-docs/stable/user_guide/indexing.html#returning-a-view-versus-a-copy\n",
      "  data['drop'] = data.apply(lambda row: row['지역명'] in row['도로주소'], axis=1)\n"
     ]
    }
   ],
   "source": [
    "#2조회된 도로주소가 실제 지역구와 다른경우 제외\n",
    "data['drop'] = data.apply(lambda row: row['지역명'] in row['도로주소'], axis=1)"
   ]
  },
  {
   "cell_type": "code",
   "execution_count": 19,
   "id": "561ae159",
   "metadata": {},
   "outputs": [],
   "source": [
    "data = data[data['drop'] == True]"
   ]
  },
  {
   "cell_type": "code",
   "execution_count": 22,
   "id": "37e5dd38",
   "metadata": {},
   "outputs": [
    {
     "data": {
      "text/plain": [
       "(18988, 19)"
      ]
     },
     "execution_count": 22,
     "metadata": {},
     "output_type": "execute_result"
    }
   ],
   "source": [
    "#3 카테고리가 음식점이 아닌경우 제외\n",
    "data = data[data['카테고리'].str.startswith('음식점') == True]\n",
    "data.shape"
   ]
  },
  {
   "cell_type": "code",
   "execution_count": 23,
   "id": "e5541033",
   "metadata": {},
   "outputs": [],
   "source": [
    "del data['drop']"
   ]
  },
  {
   "cell_type": "code",
   "execution_count": 24,
   "id": "cf32d8be",
   "metadata": {},
   "outputs": [
    {
     "data": {
      "text/plain": [
       "음식점 > 카페                          1394\n",
       "음식점 > 한식                          1292\n",
       "음식점 > 한식 > 육류,고기                   993\n",
       "음식점 > 술집 > 호프,요리주점                 879\n",
       "음식점 > 분식                           753\n",
       "                                  ... \n",
       "음식점 > 한식 > 냉면 > 화평동왕냉면               1\n",
       "음식점 > 한식 > 육류,고기 > 정가대박집             1\n",
       "음식점 > 일식 > 돈까스,우동 > 우쿠야              1\n",
       "음식점 > 한식 > 육류,고기 > 원조부안집             1\n",
       "음식점 > 카페 > 테마카페 > 디저트카페 > 크로앙쥬       1\n",
       "Name: 카테고리, Length: 555, dtype: int64"
      ]
     },
     "execution_count": 24,
     "metadata": {},
     "output_type": "execute_result"
    }
   ],
   "source": [
    "data['카테고리'].value_counts()"
   ]
  },
  {
   "cell_type": "code",
   "execution_count": 25,
   "id": "d9291108",
   "metadata": {},
   "outputs": [],
   "source": [
    "data.to_excel('final_data2.xlsx')"
   ]
  },
  {
   "cell_type": "code",
   "execution_count": null,
   "id": "83a0342c",
   "metadata": {},
   "outputs": [],
   "source": []
  }
 ],
 "metadata": {
  "kernelspec": {
   "display_name": "Python 3 (ipykernel)",
   "language": "python",
   "name": "python3"
  },
  "language_info": {
   "codemirror_mode": {
    "name": "ipython",
    "version": 3
   },
   "file_extension": ".py",
   "mimetype": "text/x-python",
   "name": "python",
   "nbconvert_exporter": "python",
   "pygments_lexer": "ipython3",
   "version": "3.9.7"
  }
 },
 "nbformat": 4,
 "nbformat_minor": 5
}
