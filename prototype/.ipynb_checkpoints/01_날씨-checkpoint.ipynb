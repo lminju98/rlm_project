{
 "cells": [
  {
   "cell_type": "code",
   "execution_count": 7,
   "id": "8a633daa",
   "metadata": {},
   "outputs": [
    {
     "data": {
      "text/plain": [
       "'Clouds'"
      ]
     },
     "execution_count": 7,
     "metadata": {},
     "output_type": "execute_result"
    }
   ],
   "source": [
    "#-*-coding:utf-8-*-\n",
    "import urllib.request\n",
    "import json\n",
    "\n",
    "openweather_api_url = \"https://api.openweathermap.org/data/2.5/\"\n",
    "service_key = \"1ec716427f7679f0fe76cb6036c13ba0\"\n",
    "\n",
    "\n",
    "def getNowCity(city) :\n",
    "    global openweather_api_url, service_key\n",
    "\n",
    "    # API 요청시 필요한 인수값 정의\n",
    "    ow_api_url = openweather_api_url + \"weather\"\n",
    "    payload = \"?q=\" + city + \"&\" + \"appid=\" + service_key #\"lang=kr\" 옵션을 추가하면 날씨설명을 한글로 받을 수 있음.\n",
    "    url_total = ow_api_url + payload\n",
    "\n",
    "    # API 요청하여 데이터 받기\n",
    "    req = urllib.request.urlopen(url_total)\n",
    "    res = req.readline()\n",
    "\n",
    "    # 받은 값 JSON 형태로 정제하여 반환\n",
    "    items = json.loads(res)\n",
    "    \n",
    "    #print(items)\n",
    "    '''\n",
    "    {'coord': {'lon': 126.9778, 'lat': 37.5683},\n",
    "    'weather': [{'id': 802, 'main': 'Clouds', 'description': 'scattered clouds', 'icon': '03d'}], \n",
    "    'base': 'stations', 'main': {'temp': 306.34, 'feels_like': 312.43, 'temp_min': 304.84, 'temp_max': 307.81, 'pressure': 1006, 'humidity': 58}, 'visibility': 10000, 'wind': {'speed': 4.63, 'deg': 280}, 'clouds': {'all': 40}, 'dt': 1691043354, 'sys': {'type': 1, 'id': 8105, 'country': 'KR', 'sunrise': 1691008619, 'sunset': 1691059175}, 'timezone': 32400, 'id': 1835848, 'name': 'Seoul', 'cod': 200}\n",
    "\n",
    "    '''\n",
    "    '''\n",
    "    print(\"============================\")\n",
    "    print(\"도시명 : %r\" % items['name'])\n",
    "    print(\"============================\")\n",
    "    print(\"날씨 : %r\" % items['weather'][0]['main'])\n",
    "    print(\"날씨상세 : %r\" % items['weather'][0]['description'])\n",
    "    print(\"아이콘 : %r  (사이트참조: https://openweathermap.org/weather-conditions)\" % items['weather'][0]['icon'])\n",
    "    print(\"============================\")\n",
    "    print(\"현재온도 : %r\" % str(int(items['main']['temp'])-273.15))\n",
    "    print(\"체감온도 : %r\" % str(int(items['main']['feels_like'])-273.15))\n",
    "    print(\"최저온도 : %r\" % str(int(items['main']['temp_min'])-273.15))\n",
    "    print(\"최고온도 : %r\" % str(int(items['main']['temp_max'])-273.15))\n",
    "    print(\"습도 : %r\" % items['main']['humidity'])\n",
    "    print(\"기압 : %r\" % items['main']['pressure'])\n",
    "    print(\"============================\")\n",
    "    print(\"가시거리 : %r\" % items['visibility'])\n",
    "    print(\"풍속 : %r\" % items['wind']['speed'])\n",
    "    print(\"풍향 : %r\" % items['wind']['deg'])\n",
    "    print(\"============================\")\n",
    "    #print(\"강수량 : %r (시간당)\" % items['rain']['1h']) #비 올때만 생김\n",
    "    print(\"============================\")\n",
    "    print(\"구름 : %r \" % items['clouds']['all'])\n",
    "    print(\"일출 : %r \" % items['sys']['sunrise'])\n",
    "    print(\"일몰 : %r \" % items['sys']['sunset'])\n",
    "    print(\"============================\")\n",
    "    '''\n",
    "    weather_main = items['weather'][0]['main']\n",
    "    \n",
    "    return weather_main\n",
    "\n",
    "\n",
    "getNowCity(\"Seoul\")\n",
    "\n"
   ]
  },
  {
   "cell_type": "code",
   "execution_count": 8,
   "id": "5f6f8990",
   "metadata": {},
   "outputs": [],
   "source": [
    "import random\n",
    "\n",
    "\n",
    "def get_food_list(current_weather):\n",
    "    rain = \"파전, 전집, 삼계탕, 찜닭, 철판, 곱창, 중식, 오리, 뷔페\".split(',')\n",
    "    snow = \"삼겹살, 이슬람, 이태리, 설렁탕, 곰탕, 동남아, 패밀리\".split(',')\n",
    "\n",
    "    if current_weather in ['Rain', 'Thunderstorm', 'Drizzle']:\n",
    "        food_list = random.sample(rain, 3)\n",
    "    elif current_weather == 'Snow':\n",
    "        food_list = random.sample(snow, 3)\n",
    "    else:\n",
    "        food_list = None\n",
    "\n",
    "    return food_list"
   ]
  },
  {
   "cell_type": "code",
   "execution_count": 10,
   "id": "be8d8f6a",
   "metadata": {},
   "outputs": [
    {
     "name": "stdout",
     "output_type": "stream",
     "text": [
      "None\n"
     ]
    }
   ],
   "source": [
    "print(get_food_list(getNowCity(\"Seoul\")))"
   ]
  },
  {
   "cell_type": "code",
   "execution_count": null,
   "id": "0b4bca9b",
   "metadata": {},
   "outputs": [],
   "source": []
  }
 ],
 "metadata": {
  "kernelspec": {
   "display_name": "Python 3 (ipykernel)",
   "language": "python",
   "name": "python3"
  },
  "language_info": {
   "codemirror_mode": {
    "name": "ipython",
    "version": 3
   },
   "file_extension": ".py",
   "mimetype": "text/x-python",
   "name": "python",
   "nbconvert_exporter": "python",
   "pygments_lexer": "ipython3",
   "version": "3.9.13"
  }
 },
 "nbformat": 4,
 "nbformat_minor": 5
}
