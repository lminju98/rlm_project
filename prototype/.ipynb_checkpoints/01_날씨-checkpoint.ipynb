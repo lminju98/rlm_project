{
 "cells": [
  {
   "cell_type": "code",
   "execution_count": 73,
   "id": "8a633daa",
   "metadata": {},
   "outputs": [
    {
     "data": {
      "text/plain": [
       "'Clouds'"
      ]
     },
     "execution_count": 73,
     "metadata": {},
     "output_type": "execute_result"
    }
   ],
   "source": [
    "#-*-coding:utf-8-*-\n",
    "import urllib.request\n",
    "import json\n",
    "\n",
    "openweather_api_url = \"https://api.openweathermap.org/data/2.5/\"\n",
    "service_key = \"1ec716427f7679f0fe76cb6036c13ba0\"\n",
    "\n",
    "\n",
    "def getNowCity(city) :\n",
    "    global openweather_api_url, service_key\n",
    "    global c_temp\n",
    "\n",
    "    # API 요청시 필요한 인수값 정의\n",
    "    ow_api_url = openweather_api_url + \"weather\"\n",
    "    payload = \"?q=\" + city + \"&\" + \"appid=\" + service_key #\"lang=kr\" 옵션을 추가하면 날씨설명을 한글로 받을 수 있음.\n",
    "    url_total = ow_api_url + payload\n",
    "\n",
    "    # API 요청하여 데이터 받기\n",
    "    req = urllib.request.urlopen(url_total)\n",
    "    res = req.readline()\n",
    "\n",
    "    # 받은 값 JSON 형태로 정제하여 반환\n",
    "    items = json.loads(res)\n",
    "    \n",
    "    weather_main = items['weather'][0]['main']\n",
    "    c_temp = int(items['main']['temp'])-273.15\n",
    "    \n",
    "    return weather_main\n",
    "\n",
    "\n",
    "getNowCity(\"Seoul\")\n"
   ]
  },
  {
   "cell_type": "code",
   "execution_count": 76,
   "id": "5f6f8990",
   "metadata": {},
   "outputs": [],
   "source": [
    "import random\n",
    "\n",
    "def get_food_list(current_weather):\n",
    "    rain = \"파전, 전집, 삼계탕, 찜닭, 철판, 곱창, 중식, 오리, 뷔페\".split(',')\n",
    "    snow = \"삼겹살, 이태리, 설렁탕, 곰탕, 동남아, 패밀리\".split(',')\n",
    "\n",
    "    if current_weather in ['Rain', 'Thunderstorm', 'Drizzle']:\n",
    "        food_list = random.sample(rain, 3)\n",
    "    elif current_weather == 'Snow':\n",
    "        food_list = random.sample(snow, 3)\n",
    "    else:\n",
    "        food_list = None\n",
    "\n",
    "    return food_list"
   ]
  },
  {
   "cell_type": "code",
   "execution_count": 71,
   "id": "be8d8f6a",
   "metadata": {},
   "outputs": [
    {
     "name": "stdout",
     "output_type": "stream",
     "text": [
      "None\n",
      "[' 삼계탕', ' 철판', ' 뷔페']\n"
     ]
    }
   ],
   "source": [
    "print(get_food_list(getNowCity(\"Seoul\")))\n",
    "print(get_food_list(\"Rain\"))"
   ]
  },
  {
   "cell_type": "code",
   "execution_count": null,
   "id": "67af5ba2",
   "metadata": {},
   "outputs": [],
   "source": [
    "import pandas as pd\n",
    "import folium\n",
    "import urllib.request\n",
    "import json\n",
    "import random\n",
    "from folium import IFrame\n",
    "\n",
    "openweather_api_url = \"https://api.openweathermap.org/data/2.5/\"\n",
    "service_key = \"1ec716427f7679f0fe76cb6036c13ba0\"\n",
    "\n",
    "def getNowCity(city):\n",
    "    global openweather_api_url, service_key\n",
    "    global c_temp\n",
    "\n",
    "    ow_api_url = openweather_api_url + \"weather\"\n",
    "    payload = \"?q=\" + city + \"&\" + \"appid=\" + service_key\n",
    "    url_total = ow_api_url + payload\n",
    "\n",
    "    req = urllib.request.urlopen(url_total)\n",
    "    res = req.readline()\n",
    "\n",
    "    items = json.loads(res)\n",
    "\n",
    "    weather_main = items['weather'][0]['main']\n",
    "    c_temp = int(items['main']['temp']) - 273.15\n",
    "\n",
    "    return weather_main\n",
    "\n",
    "def get_food_list(current_weather):\n",
    "    rain = \"파전, 전집, 삼계탕, 찜닭, 철판, 곱창, 중식, 오리, 뷔페\".split(',')\n",
    "    snow = \"삼겹살, 이태리, 설렁탕, 곰탕, 동남아, 패밀리\".split(',')\n",
    "    if current_weather in ['Rain', 'Thunderstorm', 'Drizzle']:\n",
    "        food_list = random.sample(rain, 3)\n",
    "    elif current_weather == 'Snow':\n",
    "        food_list = random.sample(snow, 3)\n",
    "    else:\n",
    "        food_list = []\n",
    "    return food_list\n",
    "\n",
    "# 엑셀 파일 불러오기\n",
    "excel_file = '음식메뉴_추가.xlsx'\n",
    "df = pd.read_excel(excel_file)\n",
    "\n",
    "# 사용자에게 구 이름 입력 받기\n",
    "target_gu = input(\"구 이름을 입력하세요: \")\n",
    "\n",
    "# 입력한 구 이름에 해당하는 데이터 필터링\n",
    "filtered_df = df[df['구 이름'] == target_gu]\n",
    "\n",
    "# 날씨 데이터 받아오기\n",
    "current_weather = getNowCity(\"Seoul\")\n",
    "\n",
    "# 음식메뉴 컬럼 값과 일치하는 데이터 필터링\n",
    "food_list = get_food_list(current_weather)\n",
    "matching_df = filtered_df[filtered_df['음식메뉴'].str.contains('|'.join(food_list), case=False, na=False)]\n",
    "\n",
    "# 나머지 데이터 중 별점을 기준으로 내림차순 정렬 후 상위 20개 선택\n",
    "rest_df = filtered_df[~filtered_df.index.isin(matching_df.index)].sort_values(by='별점', ascending=False).head(20 - len(matching_df))\n",
    "\n",
    "# 별점을 기준으로 내림차순 정렬 후 상위 20개 선택\n",
    "top_rated_df = pd.concat([matching_df, rest_df]).sort_values(by='별점', ascending=False).head(30)\n",
    "\n",
    "# 입력한 구의 중심 좌표 설정\n",
    "center_lat, center_lon = top_rated_df['위도(y)'].mean(), top_rated_df['경도(x)'].mean()\n",
    "\n",
    "# 지도 생성\n",
    "m = folium.Map(location=[center_lat, center_lon], zoom_start=13)\n",
    "\n",
    "# 각 데이터행마다 지도에 마커 추가\n",
    "for index, row in top_rated_df.iterrows():\n",
    "    lat, lon = row['위도(y)'], row['경도(x)']\n",
    "    popup_text = f\"<div style='font-size: 12px;'>상호명: {row['상호명']}<br>도로명주소: {row['도로명주소']}<br>카테고리: {row['카테고리']}<br>사이트: <a href='{row['사이트']}' target='_blank'>{row['사이트']}</a><br>별점: {row['별점']}</div>\"\n",
    "    popup = folium.Popup(IFrame(popup_text, width=300, height=140), parse_html=True)\n",
    "\n",
    "    # 별점에 따라 마커 색상 설정\n",
    "    if row['별점'] == 5:\n",
    "        marker_color = 'red'\n",
    "    elif row['별점'] >= 4.7:\n",
    "        marker_color = 'orange'\n",
    "    elif row['별점'] >= 4.5:\n",
    "        marker_color = 'blue'\n",
    "    else:\n",
    "        marker_color = 'black'\n",
    "\n",
    "    marker = folium.Marker(location=[lat, lon], popup=popup, icon=folium.Icon(color=marker_color))\n",
    "    marker.add_to(m)\n",
    "\n",
    "# 지도를 창으로 띄우기\n",
    "display(m)"
   ]
  },
  {
   "cell_type": "code",
   "execution_count": 79,
   "id": "39274ef7",
   "metadata": {},
   "outputs": [
    {
     "ename": "TypeError",
     "evalue": "can only join an iterable",
     "output_type": "error",
     "traceback": [
      "\u001b[1;31m---------------------------------------------------------------------------\u001b[0m",
      "\u001b[1;31mTypeError\u001b[0m                                 Traceback (most recent call last)",
      "\u001b[1;32m~\\AppData\\Local\\Temp\\ipykernel_20900\\3912179647.py\u001b[0m in \u001b[0;36m<module>\u001b[1;34m\u001b[0m\n\u001b[0;32m     11\u001b[0m \u001b[1;33m\u001b[0m\u001b[0m\n\u001b[0;32m     12\u001b[0m \u001b[1;31m# 음식메뉴 컬럼 값과 일치하는 데이터 필터링\u001b[0m\u001b[1;33m\u001b[0m\u001b[1;33m\u001b[0m\u001b[0m\n\u001b[1;32m---> 13\u001b[1;33m \u001b[0mmatching_df\u001b[0m \u001b[1;33m=\u001b[0m \u001b[0mdf\u001b[0m\u001b[1;33m[\u001b[0m\u001b[0mdf\u001b[0m\u001b[1;33m[\u001b[0m\u001b[1;34m'음식메뉴'\u001b[0m\u001b[1;33m]\u001b[0m\u001b[1;33m.\u001b[0m\u001b[0mstr\u001b[0m\u001b[1;33m.\u001b[0m\u001b[0mcontains\u001b[0m\u001b[1;33m(\u001b[0m\u001b[1;34m'|'\u001b[0m\u001b[1;33m.\u001b[0m\u001b[0mjoin\u001b[0m\u001b[1;33m(\u001b[0m\u001b[0mfood_list\u001b[0m\u001b[1;33m)\u001b[0m\u001b[1;33m,\u001b[0m \u001b[0mcase\u001b[0m\u001b[1;33m=\u001b[0m\u001b[1;32mFalse\u001b[0m\u001b[1;33m,\u001b[0m \u001b[0mna\u001b[0m\u001b[1;33m=\u001b[0m\u001b[1;32mFalse\u001b[0m\u001b[1;33m)\u001b[0m\u001b[1;33m]\u001b[0m\u001b[1;33m\u001b[0m\u001b[1;33m\u001b[0m\u001b[0m\n\u001b[0m\u001b[0;32m     14\u001b[0m \u001b[1;33m\u001b[0m\u001b[0m\n\u001b[0;32m     15\u001b[0m \u001b[1;31m# matching_df가 비어있지 않은 경우에만 중심 좌표 설정\u001b[0m\u001b[1;33m\u001b[0m\u001b[1;33m\u001b[0m\u001b[0m\n",
      "\u001b[1;31mTypeError\u001b[0m: can only join an iterable"
     ]
    }
   ],
   "source": [
    "import pandas as pd\n",
    "import folium\n",
    "\n",
    "# 엑셀 파일 불러오기\n",
    "excel_file = '음식메뉴_추가.xlsx'\n",
    "df = pd.read_excel(excel_file)\n",
    "\n",
    "# 날씨 데이터 가져오기 (getNowCity 함수와 get_food_list 함수 호출 필요)\n",
    "weather_main = getNowCity(\"Seoul\")\n",
    "food_list = get_food_list(weather_main)\n",
    "\n",
    "# 음식메뉴 컬럼 값과 일치하는 데이터 필터링\n",
    "matching_df = df[df['음식메뉴'].str.contains('|'.join(food_list), case=False, na=False)]\n",
    "\n",
    "# matching_df가 비어있지 않은 경우에만 중심 좌표 설정\n",
    "if not matching_df.empty:\n",
    "    center_lat, center_lon = matching_df['위도(y)'].mean(), matching_df['경도(x)'].mean()\n",
    "    \n",
    "    # 지도 생성\n",
    "    m = folium.Map(location=[center_lat, center_lon], zoom_start=12)\n",
    "\n",
    "    # 각 데이터행마다 지도에 마커 추가\n",
    "    for index, row in matching_df.iterrows():\n",
    "        lat, lon = row['위도(y)'], row['경도(x)']\n",
    "        popup_text = f\"상호명: {row['상호명']}<br>도로명주소: {row['도로명주소']}<br>카테고리: {row['카테고리']}<br>음식메뉴: {row['음식메뉴']}<br>사이트: <a href='{row['사이트']}' target='_blank'>{row['사이트']}</a><br>별점: {row['별점']}\"\n",
    "        popup = folium.Popup(popup_text, parse_html=True)\n",
    "        marker = folium.Marker(location=[lat, lon], popup=popup)\n",
    "        marker.add_to(m)\n",
    "\n",
    "    # 지도를 창으로 띄우기\n",
    "    m\n",
    "else:\n",
    "    print(\"매칭되는 데이터가 없습니다.\")"
   ]
  },
  {
   "cell_type": "code",
   "execution_count": null,
   "id": "96fcb310",
   "metadata": {},
   "outputs": [],
   "source": []
  }
 ],
 "metadata": {
  "kernelspec": {
   "display_name": "Python 3 (ipykernel)",
   "language": "python",
   "name": "python3"
  },
  "language_info": {
   "codemirror_mode": {
    "name": "ipython",
    "version": 3
   },
   "file_extension": ".py",
   "mimetype": "text/x-python",
   "name": "python",
   "nbconvert_exporter": "python",
   "pygments_lexer": "ipython3",
   "version": "3.9.13"
  }
 },
 "nbformat": 4,
 "nbformat_minor": 5
}
