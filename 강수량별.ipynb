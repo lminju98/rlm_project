{
 "cells": [
  {
   "cell_type": "code",
   "execution_count": 1,
   "id": "3881d9bb",
   "metadata": {},
   "outputs": [
    {
     "name": "stdout",
     "output_type": "stream",
     "text": [
      "검색된 행의 개수: 50\n"
     ]
    }
   ],
   "source": [
    "import pandas as pd\n",
    "\n",
    "# 엑셀 파일 불러오기\n",
    "excel_file = '식단품질정보_전처리완료.xlsx'\n",
    "df = pd.read_excel(excel_file)\n",
    "\n",
    "# 검색할 키워드\n",
    "keyword = '삼계탕'\n",
    "\n",
    "# 특정 키워드가 들어간 행의 개수 검색\n",
    "filtered_rows = df[df['카테고리'].str.contains(keyword, na=False, case=False)]\n",
    "\n",
    "# 검색 결과 출력\n",
    "print(\"검색된 행의 개수:\", len(filtered_rows))"
   ]
  },
  {
   "cell_type": "code",
   "execution_count": 21,
   "id": "e6ef950d",
   "metadata": {},
   "outputs": [
    {
     "name": "stdout",
     "output_type": "stream",
     "text": [
      "      구 파전 삼계탕  오리   중식\n",
      "0   서초구  0  14  13  193\n",
      "1  동대문구  0  10  21  142\n",
      "2   금천구  0  11   7  131\n",
      "3   성동구  0   0   9  115\n",
      "4   마포구  0  15  11  215\n"
     ]
    },
    {
     "ename": "PermissionError",
     "evalue": "[Errno 13] Permission denied: '구별_검색결과_개수.xlsx'",
     "output_type": "error",
     "traceback": [
      "\u001b[1;31m---------------------------------------------------------------------------\u001b[0m",
      "\u001b[1;31mPermissionError\u001b[0m                           Traceback (most recent call last)",
      "\u001b[1;32m~\\AppData\\Local\\Temp\\ipykernel_14524\\2220415607.py\u001b[0m in \u001b[0;36m<module>\u001b[1;34m\u001b[0m\n\u001b[0;32m     36\u001b[0m \u001b[1;31m# 결과 데이터프레임을 엑셀 파일로 저장\u001b[0m\u001b[1;33m\u001b[0m\u001b[1;33m\u001b[0m\u001b[0m\n\u001b[0;32m     37\u001b[0m \u001b[0mresult_excel\u001b[0m \u001b[1;33m=\u001b[0m \u001b[1;34m'구별_검색결과_개수.xlsx'\u001b[0m\u001b[1;33m\u001b[0m\u001b[1;33m\u001b[0m\u001b[0m\n\u001b[1;32m---> 38\u001b[1;33m \u001b[0mresult_df\u001b[0m\u001b[1;33m.\u001b[0m\u001b[0mto_excel\u001b[0m\u001b[1;33m(\u001b[0m\u001b[0mresult_excel\u001b[0m\u001b[1;33m,\u001b[0m \u001b[0mindex\u001b[0m\u001b[1;33m=\u001b[0m\u001b[1;32mFalse\u001b[0m\u001b[1;33m)\u001b[0m\u001b[1;33m\u001b[0m\u001b[1;33m\u001b[0m\u001b[0m\n\u001b[0m\u001b[0;32m     39\u001b[0m \u001b[0mprint\u001b[0m\u001b[1;33m(\u001b[0m\u001b[1;34m\"엑셀 파일로 저장되었습니다:\"\u001b[0m\u001b[1;33m,\u001b[0m \u001b[0mresult_excel\u001b[0m\u001b[1;33m)\u001b[0m\u001b[1;33m\u001b[0m\u001b[1;33m\u001b[0m\u001b[0m\n",
      "\u001b[1;32mD:\\ProgramData\\Anaconda3\\lib\\site-packages\\pandas\\core\\generic.py\u001b[0m in \u001b[0;36mto_excel\u001b[1;34m(self, excel_writer, sheet_name, na_rep, float_format, columns, header, index, index_label, startrow, startcol, engine, merge_cells, encoding, inf_rep, verbose, freeze_panes, storage_options)\u001b[0m\n\u001b[0;32m   2343\u001b[0m             \u001b[0minf_rep\u001b[0m\u001b[1;33m=\u001b[0m\u001b[0minf_rep\u001b[0m\u001b[1;33m,\u001b[0m\u001b[1;33m\u001b[0m\u001b[1;33m\u001b[0m\u001b[0m\n\u001b[0;32m   2344\u001b[0m         )\n\u001b[1;32m-> 2345\u001b[1;33m         formatter.write(\n\u001b[0m\u001b[0;32m   2346\u001b[0m             \u001b[0mexcel_writer\u001b[0m\u001b[1;33m,\u001b[0m\u001b[1;33m\u001b[0m\u001b[1;33m\u001b[0m\u001b[0m\n\u001b[0;32m   2347\u001b[0m             \u001b[0msheet_name\u001b[0m\u001b[1;33m=\u001b[0m\u001b[0msheet_name\u001b[0m\u001b[1;33m,\u001b[0m\u001b[1;33m\u001b[0m\u001b[1;33m\u001b[0m\u001b[0m\n",
      "\u001b[1;32mD:\\ProgramData\\Anaconda3\\lib\\site-packages\\pandas\\io\\formats\\excel.py\u001b[0m in \u001b[0;36mwrite\u001b[1;34m(self, writer, sheet_name, startrow, startcol, freeze_panes, engine, storage_options)\u001b[0m\n\u001b[0;32m    886\u001b[0m             \u001b[1;31m# error: Cannot instantiate abstract class 'ExcelWriter' with abstract\u001b[0m\u001b[1;33m\u001b[0m\u001b[1;33m\u001b[0m\u001b[0m\n\u001b[0;32m    887\u001b[0m             \u001b[1;31m# attributes 'engine', 'save', 'supported_extensions' and 'write_cells'\u001b[0m\u001b[1;33m\u001b[0m\u001b[1;33m\u001b[0m\u001b[0m\n\u001b[1;32m--> 888\u001b[1;33m             writer = ExcelWriter(  # type: ignore[abstract]\n\u001b[0m\u001b[0;32m    889\u001b[0m                 \u001b[0mwriter\u001b[0m\u001b[1;33m,\u001b[0m \u001b[0mengine\u001b[0m\u001b[1;33m=\u001b[0m\u001b[0mengine\u001b[0m\u001b[1;33m,\u001b[0m \u001b[0mstorage_options\u001b[0m\u001b[1;33m=\u001b[0m\u001b[0mstorage_options\u001b[0m\u001b[1;33m\u001b[0m\u001b[1;33m\u001b[0m\u001b[0m\n\u001b[0;32m    890\u001b[0m             )\n",
      "\u001b[1;32mD:\\ProgramData\\Anaconda3\\lib\\site-packages\\pandas\\io\\excel\\_xlsxwriter.py\u001b[0m in \u001b[0;36m__init__\u001b[1;34m(self, path, engine, date_format, datetime_format, mode, storage_options, if_sheet_exists, engine_kwargs, **kwargs)\u001b[0m\n\u001b[0;32m    189\u001b[0m             \u001b[1;32mraise\u001b[0m \u001b[0mValueError\u001b[0m\u001b[1;33m(\u001b[0m\u001b[1;34m\"Append mode is not supported with xlsxwriter!\"\u001b[0m\u001b[1;33m)\u001b[0m\u001b[1;33m\u001b[0m\u001b[1;33m\u001b[0m\u001b[0m\n\u001b[0;32m    190\u001b[0m \u001b[1;33m\u001b[0m\u001b[0m\n\u001b[1;32m--> 191\u001b[1;33m         super().__init__(\n\u001b[0m\u001b[0;32m    192\u001b[0m             \u001b[0mpath\u001b[0m\u001b[1;33m,\u001b[0m\u001b[1;33m\u001b[0m\u001b[1;33m\u001b[0m\u001b[0m\n\u001b[0;32m    193\u001b[0m             \u001b[0mengine\u001b[0m\u001b[1;33m=\u001b[0m\u001b[0mengine\u001b[0m\u001b[1;33m,\u001b[0m\u001b[1;33m\u001b[0m\u001b[1;33m\u001b[0m\u001b[0m\n",
      "\u001b[1;32mD:\\ProgramData\\Anaconda3\\lib\\site-packages\\pandas\\io\\excel\\_base.py\u001b[0m in \u001b[0;36m__init__\u001b[1;34m(self, path, engine, date_format, datetime_format, mode, storage_options, if_sheet_exists, engine_kwargs, **kwargs)\u001b[0m\n\u001b[0;32m   1104\u001b[0m         )\n\u001b[0;32m   1105\u001b[0m         \u001b[1;32mif\u001b[0m \u001b[1;32mnot\u001b[0m \u001b[0misinstance\u001b[0m\u001b[1;33m(\u001b[0m\u001b[0mpath\u001b[0m\u001b[1;33m,\u001b[0m \u001b[0mExcelWriter\u001b[0m\u001b[1;33m)\u001b[0m\u001b[1;33m:\u001b[0m\u001b[1;33m\u001b[0m\u001b[1;33m\u001b[0m\u001b[0m\n\u001b[1;32m-> 1106\u001b[1;33m             self.handles = get_handle(\n\u001b[0m\u001b[0;32m   1107\u001b[0m                 \u001b[0mpath\u001b[0m\u001b[1;33m,\u001b[0m \u001b[0mmode\u001b[0m\u001b[1;33m,\u001b[0m \u001b[0mstorage_options\u001b[0m\u001b[1;33m=\u001b[0m\u001b[0mstorage_options\u001b[0m\u001b[1;33m,\u001b[0m \u001b[0mis_text\u001b[0m\u001b[1;33m=\u001b[0m\u001b[1;32mFalse\u001b[0m\u001b[1;33m\u001b[0m\u001b[1;33m\u001b[0m\u001b[0m\n\u001b[0;32m   1108\u001b[0m             )\n",
      "\u001b[1;32mD:\\ProgramData\\Anaconda3\\lib\\site-packages\\pandas\\io\\common.py\u001b[0m in \u001b[0;36mget_handle\u001b[1;34m(path_or_buf, mode, encoding, compression, memory_map, is_text, errors, storage_options)\u001b[0m\n\u001b[0;32m    793\u001b[0m         \u001b[1;32melse\u001b[0m\u001b[1;33m:\u001b[0m\u001b[1;33m\u001b[0m\u001b[1;33m\u001b[0m\u001b[0m\n\u001b[0;32m    794\u001b[0m             \u001b[1;31m# Binary mode\u001b[0m\u001b[1;33m\u001b[0m\u001b[1;33m\u001b[0m\u001b[0m\n\u001b[1;32m--> 795\u001b[1;33m             \u001b[0mhandle\u001b[0m \u001b[1;33m=\u001b[0m \u001b[0mopen\u001b[0m\u001b[1;33m(\u001b[0m\u001b[0mhandle\u001b[0m\u001b[1;33m,\u001b[0m \u001b[0mioargs\u001b[0m\u001b[1;33m.\u001b[0m\u001b[0mmode\u001b[0m\u001b[1;33m)\u001b[0m\u001b[1;33m\u001b[0m\u001b[1;33m\u001b[0m\u001b[0m\n\u001b[0m\u001b[0;32m    796\u001b[0m         \u001b[0mhandles\u001b[0m\u001b[1;33m.\u001b[0m\u001b[0mappend\u001b[0m\u001b[1;33m(\u001b[0m\u001b[0mhandle\u001b[0m\u001b[1;33m)\u001b[0m\u001b[1;33m\u001b[0m\u001b[1;33m\u001b[0m\u001b[0m\n\u001b[0;32m    797\u001b[0m \u001b[1;33m\u001b[0m\u001b[0m\n",
      "\u001b[1;31mPermissionError\u001b[0m: [Errno 13] Permission denied: '구별_검색결과_개수.xlsx'"
     ]
    }
   ],
   "source": [
    "import pandas as pd\n",
    "\n",
    "# 엑셀 파일 불러오기\n",
    "excel_file = '식단품질정보_전처리완료.xlsx'\n",
    "df = pd.read_excel(excel_file)\n",
    "\n",
    "# 구 이름을 추출하는 함수 정의\n",
    "def extract_gu(address):\n",
    "    parts = address.split()\n",
    "    gu_keyword = '구'\n",
    "    for part in parts:\n",
    "        if gu_keyword in part:\n",
    "            return part.replace(gu_keyword + '구', '')\n",
    "\n",
    "# '구 이름' 열 추가\n",
    "df['구 이름'] = df['도로명주소'].apply(extract_gu)\n",
    "\n",
    "# 검색할 키워드 리스트\n",
    "keywords = ['파전', '삼계탕', '오리', '중식']  # 원하는 키워드 추가\n",
    "\n",
    "# 결과를 저장할 데이터프레임 생성\n",
    "result_df = pd.DataFrame(columns=['구'] + keywords)\n",
    "\n",
    "# 각 구 별로 키워드별 검색 결과 개수 저장\n",
    "for gu in df['구 이름'].unique():\n",
    "    row_data = [gu]\n",
    "    for keyword in keywords:\n",
    "        gu_rows = df[df['구 이름'] == gu]\n",
    "        filtered_rows = gu_rows[gu_rows['카테고리'].str.contains(keyword, na=False, case=False)]\n",
    "        row_data.append(len(filtered_rows))\n",
    "    result_df = pd.concat([result_df, pd.DataFrame([row_data], columns=result_df.columns)], ignore_index=True)\n",
    "\n",
    "# 결과 데이터프레임 출력\n",
    "print(result_df)\n",
    "\n",
    "# 결과 데이터프레임을 엑셀 파일로 저장\n",
    "result_excel = '구별_검색결과_개수.xlsx'\n",
    "result_df.to_excel(result_excel, index=False)\n",
    "print(\"엑셀 파일로 저장되었습니다:\", result_excel)"
   ]
  },
  {
   "cell_type": "code",
   "execution_count": 26,
   "id": "01243daa",
   "metadata": {},
   "outputs": [
    {
     "name": "stdout",
     "output_type": "stream",
     "text": [
      "      구 삼계탕 닭요리 철판요리  오리  뷔페   중식 베트남\n",
      "0   서초구  14  53    2  13  19  193  18\n",
      "1  동대문구  10  75    3  21  30  142   9\n",
      "2   금천구  11  50    0   7  21  131   8\n",
      "3   성동구   0  57    2   9  17  115  23\n",
      "4   마포구  15  80    3  11  16  215  26\n",
      "엑셀 파일로 저장되었습니다: 구별_검색결과_개수.xlsx\n"
     ]
    }
   ],
   "source": [
    "import pandas as pd\n",
    "\n",
    "# 엑셀 파일 불러오기\n",
    "excel_file = '식단품질정보_전처리완료.xlsx'\n",
    "df = pd.read_excel(excel_file)\n",
    "\n",
    "# 구 이름을 추출하는 함수 정의\n",
    "def extract_gu(address):\n",
    "    parts = address.split()\n",
    "    gu_keyword = '구'\n",
    "    for part in parts:\n",
    "        if gu_keyword in part:\n",
    "            return part.replace(gu_keyword + '구', '')\n",
    "\n",
    "# '구 이름' 열 추가\n",
    "df['구 이름'] = df['도로명주소'].apply(extract_gu)\n",
    "\n",
    "# 검색할 키워드 리스트\n",
    "keywords = ['삼계탕', '닭요리', '철판요리', '오리', '뷔페', '중식', '베트남']  # 추가 키워드 포함\n",
    "\n",
    "# 결과를 저장할 데이터프레임 생성\n",
    "result_df = pd.DataFrame(columns=['구'] + keywords)\n",
    "\n",
    "# 각 구 별로 키워드별 검색 결과 개수 저장\n",
    "for gu in df['구 이름'].unique():\n",
    "    row_data = [gu]\n",
    "    for keyword in keywords:\n",
    "        gu_rows = df[df['구 이름'] == gu]\n",
    "        filtered_rows = gu_rows[gu_rows['카테고리'].str.contains(keyword, na=False, case=False)]\n",
    "        row_data.append(len(filtered_rows))\n",
    "    result_df = pd.concat([result_df, pd.DataFrame([row_data], columns=result_df.columns)], ignore_index=True)\n",
    "\n",
    "# 결과 데이터프레임 출력\n",
    "print(result_df)\n",
    "\n",
    "# 결과 데이터프레임을 엑셀 파일로 저장\n",
    "result_excel = '구별_검색결과_개수.xlsx'\n",
    "result_df.to_excel(result_excel, index=False)\n",
    "print(\"엑셀 파일로 저장되었습니다:\", result_excel)"
   ]
  },
  {
   "cell_type": "code",
   "execution_count": null,
   "id": "98f0b589",
   "metadata": {},
   "outputs": [],
   "source": []
  }
 ],
 "metadata": {
  "kernelspec": {
   "display_name": "Python 3 (ipykernel)",
   "language": "python",
   "name": "python3"
  },
  "language_info": {
   "codemirror_mode": {
    "name": "ipython",
    "version": 3
   },
   "file_extension": ".py",
   "mimetype": "text/x-python",
   "name": "python",
   "nbconvert_exporter": "python",
   "pygments_lexer": "ipython3",
   "version": "3.9.13"
  }
 },
 "nbformat": 4,
 "nbformat_minor": 5
}
